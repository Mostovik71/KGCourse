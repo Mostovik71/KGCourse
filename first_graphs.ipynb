{
  "cells": [
    {
      "cell_type": "code",
      "source": [
        "pip install rdflib\n",
        "pip install transliterate"
      ],
      "metadata": {
        "colab": {
          "base_uri": "https://localhost:8080/"
        },
        "id": "CoRIFCkNrGYD",
        "outputId": "a23864b6-1c80-4af2-8d65-042e204e6e48"
      },
      "execution_count": 1,
      "outputs": [
        {
          "output_type": "stream",
          "name": "stdout",
          "text": [
            "Collecting rdflib\n",
            "  Downloading rdflib-7.0.0-py3-none-any.whl (531 kB)\n",
            "\u001b[2K     \u001b[90m━━━━━━━━━━━━━━━━━━━━━━━━━━━━━━━━━━━━━━━━\u001b[0m \u001b[32m531.9/531.9 kB\u001b[0m \u001b[31m4.9 MB/s\u001b[0m eta \u001b[36m0:00:00\u001b[0m\n",
            "\u001b[?25hCollecting isodate<0.7.0,>=0.6.0 (from rdflib)\n",
            "  Downloading isodate-0.6.1-py2.py3-none-any.whl (41 kB)\n",
            "\u001b[2K     \u001b[90m━━━━━━━━━━━━━━━━━━━━━━━━━━━━━━━━━━━━━━━━\u001b[0m \u001b[32m41.7/41.7 kB\u001b[0m \u001b[31m4.3 MB/s\u001b[0m eta \u001b[36m0:00:00\u001b[0m\n",
            "\u001b[?25hRequirement already satisfied: pyparsing<4,>=2.1.0 in /usr/local/lib/python3.10/dist-packages (from rdflib) (3.1.1)\n",
            "Requirement already satisfied: six in /usr/local/lib/python3.10/dist-packages (from isodate<0.7.0,>=0.6.0->rdflib) (1.16.0)\n",
            "Installing collected packages: isodate, rdflib\n",
            "Successfully installed isodate-0.6.1 rdflib-7.0.0\n"
          ]
        }
      ]
    },
    {
      "cell_type": "code",
      "source": [
        "from rdflib import URIRef, BNode, Literal, Namespace, Graph, RDF, XSD\n",
        "from transliterate import translit\n",
        "import pandas as pd"
      ],
      "metadata": {
        "id": "T7H4Zdi6rGan"
      },
      "execution_count": 193,
      "outputs": []
    },
    {
      "cell_type": "code",
      "source": [
        "g = Graph()\n",
        "g.parse('kish.rdf')"
      ],
      "metadata": {
        "colab": {
          "base_uri": "https://localhost:8080/"
        },
        "id": "QsoIRnRgrGct",
        "outputId": "c19b5b96-f77a-483b-ba0b-acefff3dd375"
      },
      "execution_count": 194,
      "outputs": [
        {
          "output_type": "execute_result",
          "data": {
            "text/plain": [
              "<Graph identifier=N341e5971a3e34a47b9c119425b67033a (<class 'rdflib.graph.Graph'>)>"
            ]
          },
          "metadata": {},
          "execution_count": 194
        }
      ]
    },
    {
      "cell_type": "code",
      "source": [
        "# Посмотрим, есть ли какие-либо триплеты в нашем графе\n",
        "\n",
        "all_classes = g.query(\"\"\"\n",
        "    ASK WHERE {?s ?p ?o}\n",
        "\"\"\")\n",
        "for i in all_classes:\n",
        "  print(i)"
      ],
      "metadata": {
        "colab": {
          "base_uri": "https://localhost:8080/"
        },
        "id": "yzeMigUprGfF",
        "outputId": "7f2cb837-90d8-4980-b41c-ee9d774e0aeb"
      },
      "execution_count": 196,
      "outputs": [
        {
          "output_type": "stream",
          "name": "stdout",
          "text": [
            "True\n"
          ]
        }
      ]
    },
    {
      "cell_type": "code",
      "source": [
        "# Посмотрим на все доступные триплеты\n",
        "all = g.query(\"\"\"\n",
        "  SELECT ?subject ?predicate ?object\n",
        "  WHERE {?subject ?predicate ?object}\n",
        "\n",
        "\"\"\")\n",
        "for row in all:\n",
        "  print(row)"
      ],
      "metadata": {
        "colab": {
          "base_uri": "https://localhost:8080/"
        },
        "id": "mecfnwz5rGjw",
        "outputId": "efed5d2d-d4ac-4bf2-ef53-cf9c75d5f4b1"
      },
      "execution_count": 197,
      "outputs": [
        {
          "output_type": "stream",
          "name": "stdout",
          "text": [
            "(rdflib.term.URIRef('http://www.semanticweb.org/mosto/ontologies/2023/10/untitled-ontology-11#Track'), rdflib.term.URIRef('http://www.w3.org/1999/02/22-rdf-syntax-ns#type'), rdflib.term.URIRef('http://www.w3.org/2002/07/owl#Class'))\n",
            "(rdflib.term.URIRef('http://www.semanticweb.org/mosto/ontologies/kish#Album_name'), rdflib.term.URIRef('http://www.w3.org/1999/02/22-rdf-syntax-ns#type'), rdflib.term.URIRef('http://www.w3.org/2002/07/owl#DatatypeProperty'))\n",
            "(rdflib.term.URIRef('http://www.semanticweb.org/mosto/ontologies/2023/10/untitled-ontology-11#Track'), rdflib.term.URIRef('http://www.w3.org/2000/01/rdf-schema#subClassOf'), rdflib.term.URIRef('http://www.semanticweb.org/mosto/ontologies/2023/10/untitled-ontology-11#Album'))\n",
            "(rdflib.term.URIRef('http://www.semanticweb.org/mosto/ontologies/kish#contains'), rdflib.term.URIRef('http://www.w3.org/1999/02/22-rdf-syntax-ns#type'), rdflib.term.URIRef('http://www.w3.org/2002/07/owl#ObjectProperty'))\n",
            "(rdflib.term.URIRef('http://www.semanticweb.org/mosto/ontologies/kish'), rdflib.term.URIRef('http://www.w3.org/1999/02/22-rdf-syntax-ns#type'), rdflib.term.URIRef('http://www.w3.org/2002/07/owl#Ontology'))\n",
            "(rdflib.term.URIRef('http://www.semanticweb.org/mosto/ontologies/kish#Track_name'), rdflib.term.URIRef('http://www.w3.org/1999/02/22-rdf-syntax-ns#type'), rdflib.term.URIRef('http://www.w3.org/2002/07/owl#DatatypeProperty'))\n",
            "(rdflib.term.URIRef('http://www.semanticweb.org/mosto/ontologies/2023/10/untitled-ontology-11#Album'), rdflib.term.URIRef('http://www.w3.org/1999/02/22-rdf-syntax-ns#type'), rdflib.term.URIRef('http://www.w3.org/2002/07/owl#Class'))\n"
          ]
        }
      ]
    },
    {
      "cell_type": "code",
      "source": [
        "# Classes\n",
        "album_class = URIRef(\"http://www.semanticweb.org/mosto/ontologies/2023/10/untitled-ontology-11#Album\")\n",
        "track_class = URIRef(\"http://www.semanticweb.org/mosto/ontologies/2023/10/untitled-ontology-11#Track\")\n",
        "\n",
        "# Properties\n",
        "cont = URIRef(\"http://www.semanticweb.org/mosto/ontologies/kish#contains\")\n",
        "\n",
        "# Attributes\n",
        "album_name_attr = URIRef(\"http://www.semanticweb.org/mosto/ontologies/kish#Album_name\")\n",
        "track_name_attr = URIRef(\"http://www.semanticweb.org/mosto/ontologies/kish#Track_name\")"
      ],
      "metadata": {
        "id": "fMb8Hz1BrGrD"
      },
      "execution_count": 198,
      "outputs": []
    },
    {
      "cell_type": "code",
      "source": [
        "def new_album(album_name):\n",
        "  new_album = URIRef(f\"http://www.semanticweb.org/mosto/ontologies/2023/10/untitled-ontology-11/albums/{album_name}\")\n",
        "  g.add((new_album, RDF.type, album_class))\n",
        "  g.add((new_album, album_name_attr, Literal(album_name, lang=\"en\")))\n",
        "\n",
        "def new_track(track_name, album_name):\n",
        "  new_track = URIRef(f\"http://www.semanticweb.org/mosto/ontologies/2023/10/untitled-ontology-11/tracks/{track_name}\")\n",
        "  new_album = URIRef(f\"http://www.semanticweb.org/mosto/ontologies/2023/10/untitled-ontology-11/albums/{album_name}\")\n",
        "  g.add((new_track, RDF.type, track_class))\n",
        "  g.add((new_track, track_name_attr, Literal(track_name, lang=\"en\")))\n",
        "  g.add((new_album, cont, new_track))\n"
      ],
      "metadata": {
        "id": "vKS24Hier1xK"
      },
      "execution_count": 199,
      "outputs": []
    },
    {
      "cell_type": "code",
      "source": [
        "all_info = pd.read_csv('korol_i_shut_songs.csv', sep=';')"
      ],
      "metadata": {
        "id": "xwFMOHuosLJq"
      },
      "execution_count": 200,
      "outputs": []
    },
    {
      "cell_type": "code",
      "source": [
        "all_info"
      ],
      "metadata": {
        "id": "dKsMRgboOTiX",
        "outputId": "a64406af-6740-43b6-e6bf-fa0f8ea27386",
        "colab": {
          "base_uri": "https://localhost:8080/",
          "height": 419
        }
      },
      "execution_count": 202,
      "outputs": [
        {
          "output_type": "execute_result",
          "data": {
            "text/plain": [
              "       group_name           album_name  year               track\n",
              "0    Король и Шут  Акустический альбом  1999       Кукла колдуна\n",
              "1    Король и Шут  Акустический альбом  1999         Наблюдатель\n",
              "2    Король и Шут  Акустический альбом  1999            Бедняжка\n",
              "3    Король и Шут  Акустический альбом  1999     Прыгну со скалы\n",
              "4    Король и Шут  Акустический альбом  1999      Девушка и Граф\n",
              "..            ...                  ...   ...                 ...\n",
              "164  Король и Шут    Жаль - нет ружья!  2002       Вино Хоббитов\n",
              "165  Король и Шут    Жаль - нет ружья!  2002  Разборки из-за Баб\n",
              "166  Король и Шут    Жаль - нет ружья!  2002          Утопленник\n",
              "167  Король и Шут    Жаль - нет ружья!  2002             Медведь\n",
              "168  Король и Шут    Жаль - нет ружья!  2002              Пьянка\n",
              "\n",
              "[169 rows x 4 columns]"
            ],
            "text/html": [
              "\n",
              "  <div id=\"df-0b1399e0-aa6a-46fc-92bf-d716d55ee773\" class=\"colab-df-container\">\n",
              "    <div>\n",
              "<style scoped>\n",
              "    .dataframe tbody tr th:only-of-type {\n",
              "        vertical-align: middle;\n",
              "    }\n",
              "\n",
              "    .dataframe tbody tr th {\n",
              "        vertical-align: top;\n",
              "    }\n",
              "\n",
              "    .dataframe thead th {\n",
              "        text-align: right;\n",
              "    }\n",
              "</style>\n",
              "<table border=\"1\" class=\"dataframe\">\n",
              "  <thead>\n",
              "    <tr style=\"text-align: right;\">\n",
              "      <th></th>\n",
              "      <th>group_name</th>\n",
              "      <th>album_name</th>\n",
              "      <th>year</th>\n",
              "      <th>track</th>\n",
              "    </tr>\n",
              "  </thead>\n",
              "  <tbody>\n",
              "    <tr>\n",
              "      <th>0</th>\n",
              "      <td>Король и Шут</td>\n",
              "      <td>Акустический альбом</td>\n",
              "      <td>1999</td>\n",
              "      <td>Кукла колдуна</td>\n",
              "    </tr>\n",
              "    <tr>\n",
              "      <th>1</th>\n",
              "      <td>Король и Шут</td>\n",
              "      <td>Акустический альбом</td>\n",
              "      <td>1999</td>\n",
              "      <td>Наблюдатель</td>\n",
              "    </tr>\n",
              "    <tr>\n",
              "      <th>2</th>\n",
              "      <td>Король и Шут</td>\n",
              "      <td>Акустический альбом</td>\n",
              "      <td>1999</td>\n",
              "      <td>Бедняжка</td>\n",
              "    </tr>\n",
              "    <tr>\n",
              "      <th>3</th>\n",
              "      <td>Король и Шут</td>\n",
              "      <td>Акустический альбом</td>\n",
              "      <td>1999</td>\n",
              "      <td>Прыгну со скалы</td>\n",
              "    </tr>\n",
              "    <tr>\n",
              "      <th>4</th>\n",
              "      <td>Король и Шут</td>\n",
              "      <td>Акустический альбом</td>\n",
              "      <td>1999</td>\n",
              "      <td>Девушка и Граф</td>\n",
              "    </tr>\n",
              "    <tr>\n",
              "      <th>...</th>\n",
              "      <td>...</td>\n",
              "      <td>...</td>\n",
              "      <td>...</td>\n",
              "      <td>...</td>\n",
              "    </tr>\n",
              "    <tr>\n",
              "      <th>164</th>\n",
              "      <td>Король и Шут</td>\n",
              "      <td>Жаль - нет ружья!</td>\n",
              "      <td>2002</td>\n",
              "      <td>Вино Хоббитов</td>\n",
              "    </tr>\n",
              "    <tr>\n",
              "      <th>165</th>\n",
              "      <td>Король и Шут</td>\n",
              "      <td>Жаль - нет ружья!</td>\n",
              "      <td>2002</td>\n",
              "      <td>Разборки из-за Баб</td>\n",
              "    </tr>\n",
              "    <tr>\n",
              "      <th>166</th>\n",
              "      <td>Король и Шут</td>\n",
              "      <td>Жаль - нет ружья!</td>\n",
              "      <td>2002</td>\n",
              "      <td>Утопленник</td>\n",
              "    </tr>\n",
              "    <tr>\n",
              "      <th>167</th>\n",
              "      <td>Король и Шут</td>\n",
              "      <td>Жаль - нет ружья!</td>\n",
              "      <td>2002</td>\n",
              "      <td>Медведь</td>\n",
              "    </tr>\n",
              "    <tr>\n",
              "      <th>168</th>\n",
              "      <td>Король и Шут</td>\n",
              "      <td>Жаль - нет ружья!</td>\n",
              "      <td>2002</td>\n",
              "      <td>Пьянка</td>\n",
              "    </tr>\n",
              "  </tbody>\n",
              "</table>\n",
              "<p>169 rows × 4 columns</p>\n",
              "</div>\n",
              "    <div class=\"colab-df-buttons\">\n",
              "\n",
              "  <div class=\"colab-df-container\">\n",
              "    <button class=\"colab-df-convert\" onclick=\"convertToInteractive('df-0b1399e0-aa6a-46fc-92bf-d716d55ee773')\"\n",
              "            title=\"Convert this dataframe to an interactive table.\"\n",
              "            style=\"display:none;\">\n",
              "\n",
              "  <svg xmlns=\"http://www.w3.org/2000/svg\" height=\"24px\" viewBox=\"0 -960 960 960\">\n",
              "    <path d=\"M120-120v-720h720v720H120Zm60-500h600v-160H180v160Zm220 220h160v-160H400v160Zm0 220h160v-160H400v160ZM180-400h160v-160H180v160Zm440 0h160v-160H620v160ZM180-180h160v-160H180v160Zm440 0h160v-160H620v160Z\"/>\n",
              "  </svg>\n",
              "    </button>\n",
              "\n",
              "  <style>\n",
              "    .colab-df-container {\n",
              "      display:flex;\n",
              "      gap: 12px;\n",
              "    }\n",
              "\n",
              "    .colab-df-convert {\n",
              "      background-color: #E8F0FE;\n",
              "      border: none;\n",
              "      border-radius: 50%;\n",
              "      cursor: pointer;\n",
              "      display: none;\n",
              "      fill: #1967D2;\n",
              "      height: 32px;\n",
              "      padding: 0 0 0 0;\n",
              "      width: 32px;\n",
              "    }\n",
              "\n",
              "    .colab-df-convert:hover {\n",
              "      background-color: #E2EBFA;\n",
              "      box-shadow: 0px 1px 2px rgba(60, 64, 67, 0.3), 0px 1px 3px 1px rgba(60, 64, 67, 0.15);\n",
              "      fill: #174EA6;\n",
              "    }\n",
              "\n",
              "    .colab-df-buttons div {\n",
              "      margin-bottom: 4px;\n",
              "    }\n",
              "\n",
              "    [theme=dark] .colab-df-convert {\n",
              "      background-color: #3B4455;\n",
              "      fill: #D2E3FC;\n",
              "    }\n",
              "\n",
              "    [theme=dark] .colab-df-convert:hover {\n",
              "      background-color: #434B5C;\n",
              "      box-shadow: 0px 1px 3px 1px rgba(0, 0, 0, 0.15);\n",
              "      filter: drop-shadow(0px 1px 2px rgba(0, 0, 0, 0.3));\n",
              "      fill: #FFFFFF;\n",
              "    }\n",
              "  </style>\n",
              "\n",
              "    <script>\n",
              "      const buttonEl =\n",
              "        document.querySelector('#df-0b1399e0-aa6a-46fc-92bf-d716d55ee773 button.colab-df-convert');\n",
              "      buttonEl.style.display =\n",
              "        google.colab.kernel.accessAllowed ? 'block' : 'none';\n",
              "\n",
              "      async function convertToInteractive(key) {\n",
              "        const element = document.querySelector('#df-0b1399e0-aa6a-46fc-92bf-d716d55ee773');\n",
              "        const dataTable =\n",
              "          await google.colab.kernel.invokeFunction('convertToInteractive',\n",
              "                                                    [key], {});\n",
              "        if (!dataTable) return;\n",
              "\n",
              "        const docLinkHtml = 'Like what you see? Visit the ' +\n",
              "          '<a target=\"_blank\" href=https://colab.research.google.com/notebooks/data_table.ipynb>data table notebook</a>'\n",
              "          + ' to learn more about interactive tables.';\n",
              "        element.innerHTML = '';\n",
              "        dataTable['output_type'] = 'display_data';\n",
              "        await google.colab.output.renderOutput(dataTable, element);\n",
              "        const docLink = document.createElement('div');\n",
              "        docLink.innerHTML = docLinkHtml;\n",
              "        element.appendChild(docLink);\n",
              "      }\n",
              "    </script>\n",
              "  </div>\n",
              "\n",
              "\n",
              "<div id=\"df-33c674df-f865-452c-a54e-ee99cc36efcb\">\n",
              "  <button class=\"colab-df-quickchart\" onclick=\"quickchart('df-33c674df-f865-452c-a54e-ee99cc36efcb')\"\n",
              "            title=\"Suggest charts\"\n",
              "            style=\"display:none;\">\n",
              "\n",
              "<svg xmlns=\"http://www.w3.org/2000/svg\" height=\"24px\"viewBox=\"0 0 24 24\"\n",
              "     width=\"24px\">\n",
              "    <g>\n",
              "        <path d=\"M19 3H5c-1.1 0-2 .9-2 2v14c0 1.1.9 2 2 2h14c1.1 0 2-.9 2-2V5c0-1.1-.9-2-2-2zM9 17H7v-7h2v7zm4 0h-2V7h2v10zm4 0h-2v-4h2v4z\"/>\n",
              "    </g>\n",
              "</svg>\n",
              "  </button>\n",
              "\n",
              "<style>\n",
              "  .colab-df-quickchart {\n",
              "      --bg-color: #E8F0FE;\n",
              "      --fill-color: #1967D2;\n",
              "      --hover-bg-color: #E2EBFA;\n",
              "      --hover-fill-color: #174EA6;\n",
              "      --disabled-fill-color: #AAA;\n",
              "      --disabled-bg-color: #DDD;\n",
              "  }\n",
              "\n",
              "  [theme=dark] .colab-df-quickchart {\n",
              "      --bg-color: #3B4455;\n",
              "      --fill-color: #D2E3FC;\n",
              "      --hover-bg-color: #434B5C;\n",
              "      --hover-fill-color: #FFFFFF;\n",
              "      --disabled-bg-color: #3B4455;\n",
              "      --disabled-fill-color: #666;\n",
              "  }\n",
              "\n",
              "  .colab-df-quickchart {\n",
              "    background-color: var(--bg-color);\n",
              "    border: none;\n",
              "    border-radius: 50%;\n",
              "    cursor: pointer;\n",
              "    display: none;\n",
              "    fill: var(--fill-color);\n",
              "    height: 32px;\n",
              "    padding: 0;\n",
              "    width: 32px;\n",
              "  }\n",
              "\n",
              "  .colab-df-quickchart:hover {\n",
              "    background-color: var(--hover-bg-color);\n",
              "    box-shadow: 0 1px 2px rgba(60, 64, 67, 0.3), 0 1px 3px 1px rgba(60, 64, 67, 0.15);\n",
              "    fill: var(--button-hover-fill-color);\n",
              "  }\n",
              "\n",
              "  .colab-df-quickchart-complete:disabled,\n",
              "  .colab-df-quickchart-complete:disabled:hover {\n",
              "    background-color: var(--disabled-bg-color);\n",
              "    fill: var(--disabled-fill-color);\n",
              "    box-shadow: none;\n",
              "  }\n",
              "\n",
              "  .colab-df-spinner {\n",
              "    border: 2px solid var(--fill-color);\n",
              "    border-color: transparent;\n",
              "    border-bottom-color: var(--fill-color);\n",
              "    animation:\n",
              "      spin 1s steps(1) infinite;\n",
              "  }\n",
              "\n",
              "  @keyframes spin {\n",
              "    0% {\n",
              "      border-color: transparent;\n",
              "      border-bottom-color: var(--fill-color);\n",
              "      border-left-color: var(--fill-color);\n",
              "    }\n",
              "    20% {\n",
              "      border-color: transparent;\n",
              "      border-left-color: var(--fill-color);\n",
              "      border-top-color: var(--fill-color);\n",
              "    }\n",
              "    30% {\n",
              "      border-color: transparent;\n",
              "      border-left-color: var(--fill-color);\n",
              "      border-top-color: var(--fill-color);\n",
              "      border-right-color: var(--fill-color);\n",
              "    }\n",
              "    40% {\n",
              "      border-color: transparent;\n",
              "      border-right-color: var(--fill-color);\n",
              "      border-top-color: var(--fill-color);\n",
              "    }\n",
              "    60% {\n",
              "      border-color: transparent;\n",
              "      border-right-color: var(--fill-color);\n",
              "    }\n",
              "    80% {\n",
              "      border-color: transparent;\n",
              "      border-right-color: var(--fill-color);\n",
              "      border-bottom-color: var(--fill-color);\n",
              "    }\n",
              "    90% {\n",
              "      border-color: transparent;\n",
              "      border-bottom-color: var(--fill-color);\n",
              "    }\n",
              "  }\n",
              "</style>\n",
              "\n",
              "  <script>\n",
              "    async function quickchart(key) {\n",
              "      const quickchartButtonEl =\n",
              "        document.querySelector('#' + key + ' button');\n",
              "      quickchartButtonEl.disabled = true;  // To prevent multiple clicks.\n",
              "      quickchartButtonEl.classList.add('colab-df-spinner');\n",
              "      try {\n",
              "        const charts = await google.colab.kernel.invokeFunction(\n",
              "            'suggestCharts', [key], {});\n",
              "      } catch (error) {\n",
              "        console.error('Error during call to suggestCharts:', error);\n",
              "      }\n",
              "      quickchartButtonEl.classList.remove('colab-df-spinner');\n",
              "      quickchartButtonEl.classList.add('colab-df-quickchart-complete');\n",
              "    }\n",
              "    (() => {\n",
              "      let quickchartButtonEl =\n",
              "        document.querySelector('#df-33c674df-f865-452c-a54e-ee99cc36efcb button');\n",
              "      quickchartButtonEl.style.display =\n",
              "        google.colab.kernel.accessAllowed ? 'block' : 'none';\n",
              "    })();\n",
              "  </script>\n",
              "</div>\n",
              "    </div>\n",
              "  </div>\n"
            ]
          },
          "metadata": {},
          "execution_count": 202
        }
      ]
    },
    {
      "cell_type": "code",
      "source": [
        "all_info.album_name.unique()"
      ],
      "metadata": {
        "colab": {
          "base_uri": "https://localhost:8080/"
        },
        "id": "qk0oeHHCsYoc",
        "outputId": "13725220-2be2-4242-a9de-19c55f5aae7e"
      },
      "execution_count": 201,
      "outputs": [
        {
          "output_type": "execute_result",
          "data": {
            "text/plain": [
              "array(['Акустический альбом', 'Бунт на корабле', 'Как в старой сказке',\n",
              "       'Камнем по Голове', 'Король и Шут', 'Продавец Кошмаров',\n",
              "       'Театр Демона', 'Тень Клоуна', 'TODD - Акт 1. «Праздник Крови»',\n",
              "       'TODD - Акт 2. «На Краю»', 'Жаль - нет ружья!'], dtype=object)"
            ]
          },
          "metadata": {},
          "execution_count": 201
        }
      ]
    },
    {
      "cell_type": "code",
      "source": [
        "all_info['album_name'] + ' ' + '(' + all_info['year'].astype(str) + ')'"
      ],
      "metadata": {
        "colab": {
          "base_uri": "https://localhost:8080/"
        },
        "id": "d3h8z2Di8KYi",
        "outputId": "2f45bd64-224b-4c67-919a-9bf0d783fb1e"
      },
      "execution_count": 89,
      "outputs": [
        {
          "output_type": "execute_result",
          "data": {
            "text/plain": [
              "0      Акустический альбом (1999)\n",
              "1      Акустический альбом (1999)\n",
              "2      Акустический альбом (1999)\n",
              "3      Акустический альбом (1999)\n",
              "4      Акустический альбом (1999)\n",
              "                  ...            \n",
              "164      Жаль - нет ружья! (2002)\n",
              "165      Жаль - нет ружья! (2002)\n",
              "166      Жаль - нет ружья! (2002)\n",
              "167      Жаль - нет ружья! (2002)\n",
              "168      Жаль - нет ружья! (2002)\n",
              "Length: 169, dtype: object"
            ]
          },
          "metadata": {},
          "execution_count": 89
        }
      ]
    },
    {
      "cell_type": "code",
      "source": [
        "grouped_albums = all_info.groupby('album_name', as_index=False).agg({'track': list})"
      ],
      "metadata": {
        "id": "MlNldjouswQX"
      },
      "execution_count": 203,
      "outputs": []
    },
    {
      "cell_type": "code",
      "source": [
        "grouped_albums.album_name = grouped_albums.album_name.apply(lambda x: '_'.join(x.split(' ')))\n",
        "grouped_albums.track = grouped_albums.track.apply(lambda x: ['_'.join(i.split(' ')) for i in x])"
      ],
      "metadata": {
        "id": "x3709R5ktVZG"
      },
      "execution_count": 204,
      "outputs": []
    },
    {
      "cell_type": "code",
      "source": [
        "for i in grouped_albums.album_name.tolist():\n",
        "  new_album(i)\n",
        "  for k in grouped_albums.loc[grouped_albums['album_name'] == i]['track'].item():\n",
        "    new_track(k, i)"
      ],
      "metadata": {
        "id": "iDiQ1EFcvva9"
      },
      "execution_count": 205,
      "outputs": []
    },
    {
      "cell_type": "code",
      "source": [
        "g.serialize(destination=\"kish_albums_tracks.rdf\")"
      ],
      "metadata": {
        "colab": {
          "base_uri": "https://localhost:8080/"
        },
        "id": "EO6S9evvxgku",
        "outputId": "9e3a2120-5cbb-4a3b-873f-d9bb2687113f"
      },
      "execution_count": 206,
      "outputs": [
        {
          "output_type": "execute_result",
          "data": {
            "text/plain": [
              "<Graph identifier=N341e5971a3e34a47b9c119425b67033a (<class 'rdflib.graph.Graph'>)>"
            ]
          },
          "metadata": {},
          "execution_count": 206
        }
      ]
    },
    {
      "cell_type": "markdown",
      "source": [
        "### Данные добавлены, с помощью запросов посмотрим, что получилось\n"
      ],
      "metadata": {
        "id": "Sjdy8EDEBV1P"
      }
    },
    {
      "cell_type": "code",
      "source": [
        "# Посмотрим на все доступные триплеты\n",
        "all = g.query(\"\"\"\n",
        "  SELECT ?subject ?predicate ?object\n",
        "  WHERE {?subject ?predicate ?object}\n",
        "  LIMIT 10\n",
        "\"\"\")\n",
        "for row in all:\n",
        "  print(row)"
      ],
      "metadata": {
        "colab": {
          "base_uri": "https://localhost:8080/"
        },
        "id": "y-MkBuJrHwjv",
        "outputId": "3dc6b7c4-053c-4365-cf87-d00e8eb3e344"
      },
      "execution_count": 207,
      "outputs": [
        {
          "output_type": "stream",
          "name": "stdout",
          "text": [
            "(rdflib.term.URIRef('http://www.semanticweb.org/mosto/ontologies/2023/10/untitled-ontology-11/tracks/Смерть_Ловетт_(Ария_Ловетт)'), rdflib.term.URIRef('http://www.w3.org/1999/02/22-rdf-syntax-ns#type'), rdflib.term.URIRef('http://www.semanticweb.org/mosto/ontologies/2023/10/untitled-ontology-11#Track'))\n",
            "(rdflib.term.URIRef('http://www.semanticweb.org/mosto/ontologies/2023/10/untitled-ontology-11/tracks/Паника_в_селе'), rdflib.term.URIRef('http://www.w3.org/1999/02/22-rdf-syntax-ns#type'), rdflib.term.URIRef('http://www.semanticweb.org/mosto/ontologies/2023/10/untitled-ontology-11#Track'))\n",
            "(rdflib.term.URIRef('http://www.semanticweb.org/mosto/ontologies/2023/10/untitled-ontology-11/tracks/Охотник'), rdflib.term.URIRef('http://www.semanticweb.org/mosto/ontologies/kish#Track_name'), rdflib.term.Literal('Охотник', lang='en'))\n",
            "(rdflib.term.URIRef('http://www.semanticweb.org/mosto/ontologies/2023/10/untitled-ontology-11/albums/Акустический_альбом'), rdflib.term.URIRef('http://www.w3.org/1999/02/22-rdf-syntax-ns#type'), rdflib.term.URIRef('http://www.semanticweb.org/mosto/ontologies/2023/10/untitled-ontology-11#Album'))\n",
            "(rdflib.term.URIRef('http://www.semanticweb.org/mosto/ontologies/2023/10/untitled-ontology-11/albums/Как_в_старой_сказке'), rdflib.term.URIRef('http://www.semanticweb.org/mosto/ontologies/kish#contains'), rdflib.term.URIRef('http://www.semanticweb.org/mosto/ontologies/2023/10/untitled-ontology-11/tracks/Гимн_Шута'))\n",
            "(rdflib.term.URIRef('http://www.semanticweb.org/mosto/ontologies/2023/10/untitled-ontology-11/albums/Камнем_по_Голове'), rdflib.term.URIRef('http://www.semanticweb.org/mosto/ontologies/kish#contains'), rdflib.term.URIRef('http://www.semanticweb.org/mosto/ontologies/2023/10/untitled-ontology-11/tracks/Верная_Жена'))\n",
            "(rdflib.term.URIRef('http://www.semanticweb.org/mosto/ontologies/2023/10/untitled-ontology-11/albums/Бунт_на_корабле'), rdflib.term.URIRef('http://www.semanticweb.org/mosto/ontologies/kish#contains'), rdflib.term.URIRef('http://www.semanticweb.org/mosto/ontologies/2023/10/untitled-ontology-11/tracks/Бунт_на_корабле!'))\n",
            "(rdflib.term.URIRef('http://www.semanticweb.org/mosto/ontologies/2023/10/untitled-ontology-11/albums/Как_в_старой_сказке'), rdflib.term.URIRef('http://www.semanticweb.org/mosto/ontologies/kish#contains'), rdflib.term.URIRef('http://www.semanticweb.org/mosto/ontologies/2023/10/untitled-ontology-11/tracks/Пивной_Череп'))\n",
            "(rdflib.term.URIRef('http://www.semanticweb.org/mosto/ontologies/2023/10/untitled-ontology-11/tracks/Та_что_смотрит_из_пруда'), rdflib.term.URIRef('http://www.semanticweb.org/mosto/ontologies/kish#Track_name'), rdflib.term.Literal('Та_что_смотрит_из_пруда', lang='en'))\n",
            "(rdflib.term.URIRef('http://www.semanticweb.org/mosto/ontologies/2023/10/untitled-ontology-11/tracks/Злодей_и_Шапка'), rdflib.term.URIRef('http://www.w3.org/1999/02/22-rdf-syntax-ns#type'), rdflib.term.URIRef('http://www.semanticweb.org/mosto/ontologies/2023/10/untitled-ontology-11#Track'))\n"
          ]
        }
      ]
    },
    {
      "cell_type": "code",
      "source": [
        "# Посмотрим на все доступные предикаты\n",
        "all_preds = g.query(\"\"\"\n",
        "  SELECT DISTINCT ?predicate\n",
        "  WHERE {?subject ?predicate ?object}\n",
        "\"\"\")\n",
        "for row in all_preds:\n",
        "  print(row)"
      ],
      "metadata": {
        "colab": {
          "base_uri": "https://localhost:8080/"
        },
        "id": "GtecTmWhNkFp",
        "outputId": "81629c76-9592-48cd-dd90-2e02952f2fca"
      },
      "execution_count": 208,
      "outputs": [
        {
          "output_type": "stream",
          "name": "stdout",
          "text": [
            "(rdflib.term.URIRef('http://www.w3.org/1999/02/22-rdf-syntax-ns#type'),)\n",
            "(rdflib.term.URIRef('http://www.semanticweb.org/mosto/ontologies/kish#Track_name'),)\n",
            "(rdflib.term.URIRef('http://www.semanticweb.org/mosto/ontologies/kish#contains'),)\n",
            "(rdflib.term.URIRef('http://www.semanticweb.org/mosto/ontologies/kish#Album_name'),)\n",
            "(rdflib.term.URIRef('http://www.w3.org/2000/01/rdf-schema#subClassOf'),)\n"
          ]
        }
      ]
    },
    {
      "cell_type": "code",
      "source": [
        "# Посмотрим на все имеющиеся альбомы\n",
        "all_albums = g.query(\"\"\"\n",
        "    SELECT ?album\n",
        "    WHERE {\n",
        "        ?album rdf:type <http://www.semanticweb.org/mosto/ontologies/2023/10/untitled-ontology-11#Album>\n",
        "    }\n",
        "\"\"\")\n",
        "\n",
        "for row in all_albums:\n",
        "  print(row['album'])"
      ],
      "metadata": {
        "colab": {
          "base_uri": "https://localhost:8080/"
        },
        "id": "U7B4DO3xAkSM",
        "outputId": "e8c73787-de08-4d4c-f909-71624a0f9094"
      },
      "execution_count": 209,
      "outputs": [
        {
          "output_type": "stream",
          "name": "stdout",
          "text": [
            "http://www.semanticweb.org/mosto/ontologies/2023/10/untitled-ontology-11/albums/TODD_-_Акт_1._«Праздник_Крови»\n",
            "http://www.semanticweb.org/mosto/ontologies/2023/10/untitled-ontology-11/albums/TODD_-_Акт_2._«На_Краю»\n",
            "http://www.semanticweb.org/mosto/ontologies/2023/10/untitled-ontology-11/albums/Акустический_альбом\n",
            "http://www.semanticweb.org/mosto/ontologies/2023/10/untitled-ontology-11/albums/Бунт_на_корабле\n",
            "http://www.semanticweb.org/mosto/ontologies/2023/10/untitled-ontology-11/albums/Жаль_-_нет_ружья!\n",
            "http://www.semanticweb.org/mosto/ontologies/2023/10/untitled-ontology-11/albums/Как_в_старой_сказке\n",
            "http://www.semanticweb.org/mosto/ontologies/2023/10/untitled-ontology-11/albums/Камнем_по_Голове\n",
            "http://www.semanticweb.org/mosto/ontologies/2023/10/untitled-ontology-11/albums/Король_и_Шут\n",
            "http://www.semanticweb.org/mosto/ontologies/2023/10/untitled-ontology-11/albums/Продавец_Кошмаров\n",
            "http://www.semanticweb.org/mosto/ontologies/2023/10/untitled-ontology-11/albums/Театр_Демона\n",
            "http://www.semanticweb.org/mosto/ontologies/2023/10/untitled-ontology-11/albums/Тень_Клоуна\n"
          ]
        }
      ]
    },
    {
      "cell_type": "code",
      "source": [
        "# Посмотрим на список треков с альбома \"Камнем по Голове\"\n",
        "\n",
        "some_tracks_v1 =  g.query(\"\"\"\n",
        "\n",
        "    PREFIX kish: <http://www.semanticweb.org/mosto/ontologies/kish#>\n",
        "    PREFIX album_1: <http://www.semanticweb.org/mosto/ontologies/2023/10/untitled-ontology-11/albums/>\n",
        "\n",
        "    SELECT ?track\n",
        "    WHERE {\n",
        "      album_1:Камнем_по_Голове\n",
        "      kish:contains\n",
        "      ?track\n",
        "    }\n",
        "\"\"\")\n",
        "\n",
        "for row in some_tracks_v1:\n",
        "  print(row['track'])"
      ],
      "metadata": {
        "colab": {
          "base_uri": "https://localhost:8080/"
        },
        "id": "SC8xlnglEw2n",
        "outputId": "d67a5b1f-15b4-41f6-c79d-ca88401670f4"
      },
      "execution_count": 210,
      "outputs": [
        {
          "output_type": "stream",
          "name": "stdout",
          "text": [
            "http://www.semanticweb.org/mosto/ontologies/2023/10/untitled-ontology-11/tracks/Смельчак_и_Ветер\n",
            "http://www.semanticweb.org/mosto/ontologies/2023/10/untitled-ontology-11/tracks/Проказник_Скоморох\n",
            "http://www.semanticweb.org/mosto/ontologies/2023/10/untitled-ontology-11/tracks/Верная_Жена\n",
            "http://www.semanticweb.org/mosto/ontologies/2023/10/untitled-ontology-11/tracks/Садовник\n",
            "http://www.semanticweb.org/mosto/ontologies/2023/10/untitled-ontology-11/tracks/Блуждают_Тени\n",
            "http://www.semanticweb.org/mosto/ontologies/2023/10/untitled-ontology-11/tracks/Внезапная_Голова\n",
            "http://www.semanticweb.org/mosto/ontologies/2023/10/untitled-ontology-11/tracks/Шар_Голубой\n",
            "http://www.semanticweb.org/mosto/ontologies/2023/10/untitled-ontology-11/tracks/Злодей_и_Шапка\n",
            "http://www.semanticweb.org/mosto/ontologies/2023/10/untitled-ontology-11/tracks/От_Женщин_Кругом_Голова\n",
            "http://www.semanticweb.org/mosto/ontologies/2023/10/untitled-ontology-11/tracks/Рыбак\n",
            "http://www.semanticweb.org/mosto/ontologies/2023/10/untitled-ontology-11/tracks/Мотоцикл\n",
            "http://www.semanticweb.org/mosto/ontologies/2023/10/untitled-ontology-11/tracks/Холодное_Тело\n",
            "http://www.semanticweb.org/mosto/ontologies/2023/10/untitled-ontology-11/tracks/Дурак_и_Молния\n",
            "http://www.semanticweb.org/mosto/ontologies/2023/10/untitled-ontology-11/tracks/Леший_Обиделся\n",
            "http://www.semanticweb.org/mosto/ontologies/2023/10/untitled-ontology-11/tracks/Два_Вора_и_Монета\n",
            "http://www.semanticweb.org/mosto/ontologies/2023/10/untitled-ontology-11/tracks/Любовь_и_Пропеллер\n",
            "http://www.semanticweb.org/mosto/ontologies/2023/10/untitled-ontology-11/tracks/Камнем_по_Голове\n",
            "http://www.semanticweb.org/mosto/ontologies/2023/10/untitled-ontology-11/tracks/С_Тех_Пор_Как_Он_Ушёл\n",
            "http://www.semanticweb.org/mosto/ontologies/2023/10/untitled-ontology-11/tracks/История\n",
            "http://www.semanticweb.org/mosto/ontologies/2023/10/untitled-ontology-11/tracks/Окутанная_Тайной\n",
            "http://www.semanticweb.org/mosto/ontologies/2023/10/untitled-ontology-11/tracks/Лесные_Разбойники\n",
            "http://www.semanticweb.org/mosto/ontologies/2023/10/untitled-ontology-11/tracks/Мария\n"
          ]
        }
      ]
    },
    {
      "cell_type": "code",
      "source": [
        "# Посмотрим на список треков с альбома \"Король и Шут\"\n",
        "\n",
        "some_tracks_v2 =  g.query(\"\"\"\n",
        "\n",
        "    PREFIX kish: <http://www.semanticweb.org/mosto/ontologies/kish#>\n",
        "    PREFIX album_1: <http://www.semanticweb.org/mosto/ontologies/2023/10/untitled-ontology-11/albums/>\n",
        "\n",
        "    SELECT ?track\n",
        "    WHERE {\n",
        "      album_1:Король_и_Шут\n",
        "      kish:contains\n",
        "      ?track\n",
        "    }\n",
        "\"\"\")\n",
        "\n",
        "for row in some_tracks_v2:\n",
        "  print(row['track'])"
      ],
      "metadata": {
        "colab": {
          "base_uri": "https://localhost:8080/"
        },
        "id": "pSLRgBvxFqHi",
        "outputId": "d07cabd2-0393-4747-f493-eca2b8dd9ecd"
      },
      "execution_count": 211,
      "outputs": [
        {
          "output_type": "stream",
          "name": "stdout",
          "text": [
            "http://www.semanticweb.org/mosto/ontologies/2023/10/untitled-ontology-11/tracks/Король_и_Шут\n",
            "http://www.semanticweb.org/mosto/ontologies/2023/10/untitled-ontology-11/tracks/Два_друга\n",
            "http://www.semanticweb.org/mosto/ontologies/2023/10/untitled-ontology-11/tracks/Сапоги\n",
            "http://www.semanticweb.org/mosto/ontologies/2023/10/untitled-ontology-11/tracks/Охотник\n",
            "http://www.semanticweb.org/mosto/ontologies/2023/10/untitled-ontology-11/tracks/Паника_в_селе\n",
            "http://www.semanticweb.org/mosto/ontologies/2023/10/untitled-ontology-11/tracks/Истинный_убийца\n",
            "http://www.semanticweb.org/mosto/ontologies/2023/10/untitled-ontology-11/tracks/Лесник\n",
            "http://www.semanticweb.org/mosto/ontologies/2023/10/untitled-ontology-11/tracks/Помоги_мне!\n",
            "http://www.semanticweb.org/mosto/ontologies/2023/10/untitled-ontology-11/tracks/Воспоминания_о_Мёртовой_Женщине\n",
            "http://www.semanticweb.org/mosto/ontologies/2023/10/untitled-ontology-11/tracks/Кукольный_Театр\n",
            "http://www.semanticweb.org/mosto/ontologies/2023/10/untitled-ontology-11/tracks/Валет_и_Дама\n",
            "http://www.semanticweb.org/mosto/ontologies/2023/10/untitled-ontology-11/tracks/Весёлые_Тролли\n",
            "http://www.semanticweb.org/mosto/ontologies/2023/10/untitled-ontology-11/tracks/Вячеслав\n",
            "http://www.semanticweb.org/mosto/ontologies/2023/10/untitled-ontology-11/tracks/Отец_и_Маски\n",
            "http://www.semanticweb.org/mosto/ontologies/2023/10/untitled-ontology-11/tracks/Сказка_про_Дракона\n",
            "http://www.semanticweb.org/mosto/ontologies/2023/10/untitled-ontology-11/tracks/Инструмент\n",
            "http://www.semanticweb.org/mosto/ontologies/2023/10/untitled-ontology-11/tracks/Собрание\n"
          ]
        }
      ]
    },
    {
      "cell_type": "code",
      "source": [],
      "metadata": {
        "id": "WGUmbjfpOfy0"
      },
      "execution_count": null,
      "outputs": []
    }
  ],
  "metadata": {
    "colab": {
      "name": "Добро пожаловать в Colaboratory!",
      "provenance": []
    },
    "kernelspec": {
      "display_name": "Python 3",
      "name": "python3"
    }
  },
  "nbformat": 4,
  "nbformat_minor": 0
}